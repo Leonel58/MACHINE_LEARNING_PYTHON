{
 "cells": [
  {
   "cell_type": "markdown",
   "id": "6337eca2",
   "metadata": {},
   "source": [
    "#####  Regresion lineal multiple"
   ]
  },
  {
   "cell_type": "markdown",
   "id": "f78b7442",
   "metadata": {},
   "source": [
    "##### tiene mas de una entrada o variable independiente (existe correlacion entre entrada y salida)"
   ]
  },
  {
   "cell_type": "code",
   "execution_count": null,
   "id": "ef0947f2",
   "metadata": {},
   "outputs": [],
   "source": []
  },
  {
   "cell_type": "code",
   "execution_count": null,
   "id": "fed7a31f",
   "metadata": {},
   "outputs": [],
   "source": []
  },
  {
   "cell_type": "code",
   "execution_count": null,
   "id": "f5d3accc",
   "metadata": {},
   "outputs": [],
   "source": []
  },
  {
   "cell_type": "code",
   "execution_count": null,
   "id": "e2fcd8d6",
   "metadata": {},
   "outputs": [],
   "source": []
  }
 ],
 "metadata": {
  "kernelspec": {
   "display_name": "Python 3 (ipykernel)",
   "language": "python",
   "name": "python3"
  },
  "language_info": {
   "codemirror_mode": {
    "name": "ipython",
    "version": 3
   },
   "file_extension": ".py",
   "mimetype": "text/x-python",
   "name": "python",
   "nbconvert_exporter": "python",
   "pygments_lexer": "ipython3",
   "version": "3.9.19"
  }
 },
 "nbformat": 4,
 "nbformat_minor": 5
}
